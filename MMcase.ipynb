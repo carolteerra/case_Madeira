{
 "cells": [
  {
   "cell_type": "markdown",
   "id": "d7c3fba5-0097-44a7-ae0a-ce1b28a60e93",
   "metadata": {},
   "source": [
    "1. Instalando e importando as bibliotecas necessárias: pandas e pandera para a extração e validação dos dados, mysql connector para criar a base de dados local e realizar a carga dos dados. Mantenha comentado caso já tenha as bibliotecas instaladas."
   ]
  },
  {
   "cell_type": "code",
   "execution_count": 1,
   "id": "f9f9ad72-7216-4423-8c23-fb586db2a107",
   "metadata": {},
   "outputs": [],
   "source": [
    "#pip install pandas\n"
   ]
  },
  {
   "cell_type": "code",
   "execution_count": 2,
   "id": "3ffed132-2f27-47d9-846d-1e18837780f2",
   "metadata": {},
   "outputs": [],
   "source": [
    "#pip install mysql-connector-python"
   ]
  },
  {
   "cell_type": "code",
   "execution_count": 3,
   "id": "387fea9e-8695-41da-974d-5c8443cd04f8",
   "metadata": {},
   "outputs": [],
   "source": [
    "#pip install pandera"
   ]
  },
  {
   "cell_type": "code",
   "execution_count": 4,
   "id": "b643488f-c74a-404f-af26-aaf45b744c1c",
   "metadata": {},
   "outputs": [],
   "source": [
    "import pandas as pd\n",
    "import pandera as pa"
   ]
  },
  {
   "cell_type": "markdown",
   "id": "ad085987-5fcd-433e-8124-6c2021e48232",
   "metadata": {
    "tags": []
   },
   "source": [
    "2. Extraindo arquivo CSV com os dados e convertendo os dados para os tipos corretos. A opção do tratamento e limpeza dos dados aqui foi de não excluir nenhuma linha apesar dos erros e valores ausentes, por se tratar de uma tabela com a finalidade de coletar valores monetários. Dessa forma, operações de contabilidade seriam alteradas pela exclusão arbitrária desses valores. A decisão de excluir ou não essas linhas do banco de dados é pertinente aos analistas que conhecem a necessidade do negócio."
   ]
  },
  {
   "cell_type": "code",
   "execution_count": 5,
   "id": "8544067b-cd63-450d-9f29-ae8bdcc81b47",
   "metadata": {},
   "outputs": [],
   "source": [
    "df = pd.read_csv(\"base_vendas_2020.csv\", sep=\";\", parse_dates=['data_compra_date'], infer_datetime_format=True, dayfirst=True) #importa a tabela"
   ]
  },
  {
   "cell_type": "code",
   "execution_count": 6,
   "id": "cc4d3483-9570-420a-9a16-b8b93f9670b9",
   "metadata": {},
   "outputs": [],
   "source": [
    "df.replace(['', ' ', 'NULL'], pd.NA, inplace=True) #padroniza valores nulos em todas as colunas"
   ]
  },
  {
   "cell_type": "code",
   "execution_count": 7,
   "id": "d95f1422-cb0f-4580-b3e7-88f35f02dbcc",
   "metadata": {},
   "outputs": [],
   "source": [
    "df = df.where((pd.notnull(df)), None) #linha de código adicionada porque alguns valores nulos eram lidos como NaN e causavam erro na etapa de carga na base de dados "
   ]
  },
  {
   "cell_type": "code",
   "execution_count": 8,
   "id": "8a4152f0-a89d-4dea-880a-d074469eb35d",
   "metadata": {},
   "outputs": [],
   "source": [
    "df.fillna(value={'id_produto':0}, inplace=True) #tratamento adicional para a coluna de id_produto para garantir a inserção de dados. Há linhas na tabela com valores ausentes nessa coluna."
   ]
  },
  {
   "cell_type": "code",
   "execution_count": 9,
   "id": "98253d77-31ad-4be0-afe4-05cbc6de51e7",
   "metadata": {},
   "outputs": [],
   "source": [
    "#substituindo as vírgulas por ponto nas colunas de receita e convertendo os tipos dos valores para float \n",
    "df['receita_frete'] = df['receita_frete'].str.replace(',','.').astype(float)\n",
    "df['receita_produto'] = df['receita_produto'].str.replace(',','.').astype(float)\n",
    "df['desconto_produto'] = df['desconto_produto'].str.replace(',','.').astype(float)\n",
    "df['receita_total'] = df['receita_total'].str.replace(',','.').astype(float)"
   ]
  },
  {
   "cell_type": "code",
   "execution_count": 10,
   "id": "99e8734d-7844-422e-8ca1-a556ff5b8d40",
   "metadata": {},
   "outputs": [],
   "source": [
    "df['unique_id'] = pd.RangeIndex(stop=df.shape[0]) #cria uma chave substituta (surrogate key) para servir de chave primária no banco de dados, uma vez que na coluna id_pedido há valores duplicados para os casos de vendas com mais de um produto."
   ]
  },
  {
   "cell_type": "markdown",
   "id": "ef38cce1-9441-4df7-8c65-26eef079f152",
   "metadata": {},
   "source": [
    "3. Criando schema para validar os dados"
   ]
  },
  {
   "cell_type": "code",
   "execution_count": 11,
   "id": "73a8eb1c-13e2-4a95-abb6-afe6db1f45e6",
   "metadata": {},
   "outputs": [],
   "source": [
    "\n",
    "schema = pa.DataFrameSchema(\n",
    "    {\n",
    "        \"data_compra_date\": pa.Column(pa.DateTime),\n",
    "        \"id_pedido\": pa.Column(pa.Int),      \n",
    "        \"id_produto\": pa.Column(pa.Int, required=False, nullable=True),\n",
    "        \"entrega_uf\": pa.Column(pa.String),\n",
    "        \"receita_frete\": pa.Column(pa.Float),\n",
    "        \"receita_produto\": pa.Column(pa.Float),\n",
    "        \"quantidade_produto\": pa.Column(pa.Int),\n",
    "        \"situacao\": pa.Column(pa.String),\n",
    "        \"tipo_venda\": pa.Column(pa.String),\n",
    "        \"canal\": pa.Column(pa.String),\n",
    "        \"desconto_produto\": pa.Column(pa.Float, nullable=True),\n",
    "        \"receita_total\": pa.Column(pa.Float),\n",
    "        \"nome_produto\": pa.Column(pa.String, required=False, nullable=True),\n",
    "        \"categoria\": pa.Column(pa.String, required=False, nullable=True),\n",
    "        \"unique_id\": pa.Column(pa.Int)\n",
    "        \n",
    "        \n",
    "    },\n",
    "    \n",
    "    strict=True,\n",
    "    coerce=True,\n",
    ")"
   ]
  },
  {
   "cell_type": "code",
   "execution_count": 12,
   "id": "f9929aff-11ea-41e5-a6a2-3976b2fd47a6",
   "metadata": {},
   "outputs": [
    {
     "data": {
      "text/html": [
       "<div>\n",
       "<style scoped>\n",
       "    .dataframe tbody tr th:only-of-type {\n",
       "        vertical-align: middle;\n",
       "    }\n",
       "\n",
       "    .dataframe tbody tr th {\n",
       "        vertical-align: top;\n",
       "    }\n",
       "\n",
       "    .dataframe thead th {\n",
       "        text-align: right;\n",
       "    }\n",
       "</style>\n",
       "<table border=\"1\" class=\"dataframe\">\n",
       "  <thead>\n",
       "    <tr style=\"text-align: right;\">\n",
       "      <th></th>\n",
       "      <th>data_compra_date</th>\n",
       "      <th>id_pedido</th>\n",
       "      <th>id_produto</th>\n",
       "      <th>entrega_uf</th>\n",
       "      <th>receita_frete</th>\n",
       "      <th>receita_produto</th>\n",
       "      <th>quantidade_produto</th>\n",
       "      <th>situacao</th>\n",
       "      <th>tipo_venda</th>\n",
       "      <th>canal</th>\n",
       "      <th>desconto_produto</th>\n",
       "      <th>receita_total</th>\n",
       "      <th>nome_produto</th>\n",
       "      <th>categoria</th>\n",
       "      <th>unique_id</th>\n",
       "    </tr>\n",
       "  </thead>\n",
       "  <tbody>\n",
       "    <tr>\n",
       "      <th>0</th>\n",
       "      <td>2020-01-30</td>\n",
       "      <td>7830233</td>\n",
       "      <td>544113</td>\n",
       "      <td>PR</td>\n",
       "      <td>36.860001</td>\n",
       "      <td>180.899994</td>\n",
       "      <td>1</td>\n",
       "      <td>Aprovado</td>\n",
       "      <td>1P</td>\n",
       "      <td>MM</td>\n",
       "      <td>-14.17</td>\n",
       "      <td>203.589994</td>\n",
       "      <td>Escrivaninha Cavalete 4 Prateleiras Hawaii Yes...</td>\n",
       "      <td>Escrivaninhas</td>\n",
       "      <td>0</td>\n",
       "    </tr>\n",
       "    <tr>\n",
       "      <th>1</th>\n",
       "      <td>2020-01-06</td>\n",
       "      <td>7521840</td>\n",
       "      <td>148376</td>\n",
       "      <td>SP</td>\n",
       "      <td>29.059999</td>\n",
       "      <td>469.899994</td>\n",
       "      <td>1</td>\n",
       "      <td>Aprovado</td>\n",
       "      <td>1P</td>\n",
       "      <td>B2W</td>\n",
       "      <td>-46.99</td>\n",
       "      <td>451.969992</td>\n",
       "      <td>Conjunto Sala de Jantar Mesa Tampo de Vidro e ...</td>\n",
       "      <td>Conjuntos de Mesas e Cadeiras de Jantar</td>\n",
       "      <td>1</td>\n",
       "    </tr>\n",
       "    <tr>\n",
       "      <th>2</th>\n",
       "      <td>2020-01-29</td>\n",
       "      <td>7824799</td>\n",
       "      <td>280052</td>\n",
       "      <td>SP</td>\n",
       "      <td>86.089996</td>\n",
       "      <td>399.899994</td>\n",
       "      <td>1</td>\n",
       "      <td>Aprovado</td>\n",
       "      <td>1P</td>\n",
       "      <td>Carrefour</td>\n",
       "      <td>0.00</td>\n",
       "      <td>485.989990</td>\n",
       "      <td>Armário de Cozinha 12 Portas 1 Gaveta Clara Po...</td>\n",
       "      <td>Armários de Cozinha</td>\n",
       "      <td>2</td>\n",
       "    </tr>\n",
       "    <tr>\n",
       "      <th>3</th>\n",
       "      <td>2020-01-23</td>\n",
       "      <td>7761090</td>\n",
       "      <td>553063</td>\n",
       "      <td>MG</td>\n",
       "      <td>108.980003</td>\n",
       "      <td>959.900024</td>\n",
       "      <td>1</td>\n",
       "      <td>Cancelado</td>\n",
       "      <td>1P</td>\n",
       "      <td>MM</td>\n",
       "      <td>0.00</td>\n",
       "      <td>1068.880028</td>\n",
       "      <td>Penteadeira Camarim Retrô com LED 5 Gavetas Ne...</td>\n",
       "      <td>Penteadeiras</td>\n",
       "      <td>3</td>\n",
       "    </tr>\n",
       "    <tr>\n",
       "      <th>4</th>\n",
       "      <td>2020-01-14</td>\n",
       "      <td>7644963</td>\n",
       "      <td>1175243</td>\n",
       "      <td>SP</td>\n",
       "      <td>16.080000</td>\n",
       "      <td>142.000000</td>\n",
       "      <td>1</td>\n",
       "      <td>Aprovado</td>\n",
       "      <td>3P</td>\n",
       "      <td>MM</td>\n",
       "      <td>0.00</td>\n",
       "      <td>158.080000</td>\n",
       "      <td>Quadro Abstrato Decorativo - 57x120cm</td>\n",
       "      <td>Quadros</td>\n",
       "      <td>4</td>\n",
       "    </tr>\n",
       "  </tbody>\n",
       "</table>\n",
       "</div>"
      ],
      "text/plain": [
       "  data_compra_date  id_pedido  id_produto entrega_uf  receita_frete  \\\n",
       "0       2020-01-30    7830233      544113         PR      36.860001   \n",
       "1       2020-01-06    7521840      148376         SP      29.059999   \n",
       "2       2020-01-29    7824799      280052         SP      86.089996   \n",
       "3       2020-01-23    7761090      553063         MG     108.980003   \n",
       "4       2020-01-14    7644963     1175243         SP      16.080000   \n",
       "\n",
       "   receita_produto  quantidade_produto   situacao tipo_venda      canal  \\\n",
       "0       180.899994                   1   Aprovado         1P         MM   \n",
       "1       469.899994                   1   Aprovado         1P        B2W   \n",
       "2       399.899994                   1   Aprovado         1P  Carrefour   \n",
       "3       959.900024                   1  Cancelado         1P         MM   \n",
       "4       142.000000                   1   Aprovado         3P         MM   \n",
       "\n",
       "   desconto_produto  receita_total  \\\n",
       "0            -14.17     203.589994   \n",
       "1            -46.99     451.969992   \n",
       "2              0.00     485.989990   \n",
       "3              0.00    1068.880028   \n",
       "4              0.00     158.080000   \n",
       "\n",
       "                                        nome_produto  \\\n",
       "0  Escrivaninha Cavalete 4 Prateleiras Hawaii Yes...   \n",
       "1  Conjunto Sala de Jantar Mesa Tampo de Vidro e ...   \n",
       "2  Armário de Cozinha 12 Portas 1 Gaveta Clara Po...   \n",
       "3  Penteadeira Camarim Retrô com LED 5 Gavetas Ne...   \n",
       "4              Quadro Abstrato Decorativo - 57x120cm   \n",
       "\n",
       "                                 categoria  unique_id  \n",
       "0                            Escrivaninhas          0  \n",
       "1  Conjuntos de Mesas e Cadeiras de Jantar          1  \n",
       "2                      Armários de Cozinha          2  \n",
       "3                             Penteadeiras          3  \n",
       "4                                  Quadros          4  "
      ]
     },
     "execution_count": 12,
     "metadata": {},
     "output_type": "execute_result"
    }
   ],
   "source": [
    "schema.validate(df).head(5)"
   ]
  },
  {
   "cell_type": "markdown",
   "id": "21349e10-ee7b-4e29-823b-1e62432f7e01",
   "metadata": {},
   "source": [
    "4. Conectando com base de dados - Não esqueça de alterar os dados de conexão no código para os de seu banco local!\n"
   ]
  },
  {
   "cell_type": "code",
   "execution_count": 13,
   "id": "2f35110a-a3cc-4205-8ee8-113c6bc3f374",
   "metadata": {},
   "outputs": [
    {
     "name": "stdout",
     "output_type": "stream",
     "text": [
      "Base de dados criada\n"
     ]
    }
   ],
   "source": [
    "import mysql.connector as msql\n",
    "from mysql.connector import Error\n",
    "try:\n",
    "    conn = msql.connect(host='host', user='user',  \n",
    "                        password='passwordstring')#não se esqueça de inserir os dados de conexão do seu próprio banco de dados MySQL entre as aspas\n",
    "    if conn.is_connected():\n",
    "        cursor = conn.cursor()\n",
    "        cursor.execute(\"DROP DATABASE IF EXISTS vendadb;\")\n",
    "        cursor.execute(\"CREATE DATABASE vendadb\")\n",
    "        print(\"Base de dados criada\")\n",
    "except Error as e:\n",
    "    print(\"Erro ao conectar com MySQL\", e)"
   ]
  },
  {
   "cell_type": "markdown",
   "id": "11fa7e7d-a8e0-4451-a0ee-e016f4517773",
   "metadata": {},
   "source": [
    "5. Inserindo os dados no BD - Não esqueça de alterar os dados de conexão no código para os de seu banco local!"
   ]
  },
  {
   "cell_type": "code",
   "execution_count": 14,
   "id": "1881f08f-224c-4a1c-9939-fa93c89d9762",
   "metadata": {},
   "outputs": [
    {
     "name": "stdout",
     "output_type": "stream",
     "text": [
      "Você se conectou à base de dados:  ('vendadb',)\n",
      "Tabela criada\n",
      "Dados inseridos com sucesso\n"
     ]
    }
   ],
   "source": [
    "import mysql.connector as msql\n",
    "from mysql.connector import Error\n",
    "try:\n",
    "    conn = msql.connect(host='localhost', database='vendadb', user='root', password='bWdJ-W9!NFhB')#não se esqueça de repetir os dados de conexão do seu próprio banco de dados MySQL entre as aspas\n",
    "    if conn.is_connected():\n",
    "        cursor = conn.cursor()\n",
    "        cursor.execute(\"select database();\")\n",
    "        record = cursor.fetchone()\n",
    "        print(\"Você se conectou à base de dados: \", record)\n",
    "        #criando a tabela\n",
    "        cursor.execute('DROP TABLE IF EXISTS vendas_tb;')\n",
    "        cursor.execute(\"CREATE TABLE IF NOT EXISTS vendas_tb(`data_compra` DATE NOT NULL,`idvendas` INT NOT NULL, `id_produto` INT NULL,  `entrega_uf` VARCHAR(2) NULL, `receita_frete` FLOAT NULL, `receita_produto` FLOAT NOT NULL, `qtd_produto` INT NULL, `situacao` VARCHAR(45) NULL, `tipo_venda` VARCHAR(2) NULL, `canal_venda` VARCHAR(45) NULL, `desconto_produto` FLOAT NULL, `receita_total` FLOAT NOT NULL, `nome_produto` VARCHAR(300) NULL, `categoria` VARCHAR(100) NULL, `unique_id` INT NOT NULL, PRIMARY KEY (`unique_id`))\")\n",
    "        print(\"Tabela criada\")\n",
    "        #inserindo os dados do arquivo na tabela\n",
    "        for i,row in df.iterrows():\n",
    "            sql = \"INSERT INTO vendadb.vendas_tb VALUES (%s,%s,%s,%s,%s,%s,%s,%s,%s,%s,%s,%s,%s,%s,%s)\"\n",
    "            cursor.execute(sql, tuple(row))            \n",
    "            conn.commit()\n",
    "        print(\"Dados inseridos com sucesso\")\n",
    "except Error as e:\n",
    "            print(\"Erro ao conectar ao MySQL: \", e)"
   ]
  },
  {
   "cell_type": "markdown",
   "id": "78e66b1f-7c70-44a5-8118-d04d2c630a55",
   "metadata": {},
   "source": [
    "6. Testando algumas queries no BD"
   ]
  },
  {
   "cell_type": "code",
   "execution_count": 15,
   "id": "8e652fae-ee55-4d8c-ac2a-d0b0ab00f488",
   "metadata": {},
   "outputs": [
    {
     "name": "stdout",
     "output_type": "stream",
     "text": [
      "(datetime.date(2020, 1, 30), 7830233, 544113, 'PR', 36.86, 180.9, 1, 'Aprovado', '1P', 'MM', -14.17, 203.59, 'Escrivaninha Cavalete 4 Prateleiras Hawaii Yescasa', 'Escrivaninhas', 0)\n",
      "(datetime.date(2020, 1, 6), 7521840, 148376, 'SP', 29.06, 469.9, 1, 'Aprovado', '1P', 'B2W', -46.99, 451.97, 'Conjunto Sala de Jantar Mesa Tampo de Vidro e 4 Cadeiras Espresso Móveis', 'Conjuntos de Mesas e Cadeiras de Jantar', 1)\n",
      "(datetime.date(2020, 1, 29), 7824799, 280052, 'SP', 86.09, 399.9, 1, 'Aprovado', '1P', 'Carrefour', 0.0, 485.99, 'Armário de Cozinha 12 Portas 1 Gaveta Clara Poliman Móveis', 'Armários de Cozinha', 2)\n",
      "(datetime.date(2020, 1, 23), 7761090, 553063, 'MG', 108.98, 959.9, 1, 'Cancelado', '1P', 'MM', 0.0, 1068.88, 'Penteadeira Camarim Retrô com LED 5 Gavetas Nevada Potente', 'Penteadeiras', 3)\n",
      "(datetime.date(2020, 1, 14), 7644963, 1175243, 'SP', 16.08, 142.0, 1, 'Aprovado', '3P', 'MM', 0.0, 158.08, 'Quadro Abstrato Decorativo - 57x120cm', 'Quadros', 4)\n",
      "(datetime.date(2020, 1, 17), 7683578, 1062306, 'SP', 15.06, 129.9, 1, 'Aprovado', '3P', 'MM', 0.0, 144.96, 'Cortina Jacquard 3,00 x 2,50 para sala/quarto | Admirare - Champagne', 'Cortinas', 5)\n",
      "(datetime.date(2020, 1, 30), 7836015, 542777, 'MG', 86.67, 239.9, 1, 'Aprovado', '1P', 'Magazine Luiza', 0.0, 326.57, 'Escrivaninha com Estante 2 Gavetas Poli Poliman Móveis', 'Escrivaninhas', 6)\n",
      "(datetime.date(2020, 1, 4), 7495461, 554446, 'SP', 63.82, 815.08, 1, 'Aprovado', '1P', 'B2W', 0.0, 878.9, 'Guarda Roupa Casal com Espelho 3 Portas de Correr Vitor Macchiato Móveis', 'Guarda-Roupas', 7)\n",
      "(datetime.date(2020, 1, 7), 7546781, 493823, 'SP', 0.0, 489.9, 1, 'Aprovado', '1P', 'Mercado Livre', 0.0, 489.9, 'Mesa Gamer Desk DRX 5000 Espresso Móveis', 'Escrivaninhas', 8)\n",
      "(datetime.date(2020, 1, 15), 7662208, 2010151, 'MG', 66.55, 78.0, 2, 'Aprovado', '3P', 'MM', 0.0, 144.55, 'Mesa de Cabeceira Suspensa Branco Tipo Nicho', 'Mesas de Cabeceira', 9)\n"
     ]
    }
   ],
   "source": [
    "sql = \"SELECT * FROM vendadb.vendas_tb LIMIT 10\"\n",
    "cursor.execute(sql)\n",
    "\n",
    "result = cursor.fetchall()\n",
    "for i in result:\n",
    "    print(i)"
   ]
  },
  {
   "cell_type": "code",
   "execution_count": 16,
   "id": "91eb556d-8ba9-4eb7-ac25-9296e81ae83a",
   "metadata": {},
   "outputs": [
    {
     "name": "stdout",
     "output_type": "stream",
     "text": [
      "(7521840, 451.97, 'SP')\n",
      "(7824799, 485.99, 'SP')\n",
      "(7644963, 158.08, 'SP')\n",
      "(7683578, 144.96, 'SP')\n",
      "(7495461, 878.9, 'SP')\n"
     ]
    }
   ],
   "source": [
    "sql = \"SELECT idvendas, receita_total, entrega_uf FROM vendadb.vendas_tb WHERE entrega_uf='SP' AND situacao='Aprovado' LIMIT 5\"\n",
    "cursor.execute(sql)\n",
    "\n",
    "result = cursor.fetchall()\n",
    "for i in result:\n",
    "    print(i)"
   ]
  },
  {
   "cell_type": "code",
   "execution_count": 17,
   "id": "f0689b2a-e5d9-4ff8-99c0-f53cebe40eae",
   "metadata": {},
   "outputs": [
    {
     "name": "stdout",
     "output_type": "stream",
     "text": [
      "(7695977, 267.66, 'Aparador com Prateleira Creta Artely', 'MM')\n",
      "(7586764, 286.08, 'Aparador Bar com Adega Sonatta - Off White', 'MM')\n",
      "(7545624, 321.15, 'Aparador Buffet Retrô Quartzo 3 Portas e Prateleira Ajustável Móveis Bechara', 'B2W')\n",
      "(7639185, 229.24, 'Aparador Dunas Artely', 'Mercado Livre')\n",
      "(7823752, 454.11, 'Aparador Buffet Retrô 3 Portas Wood Prime - Preto Fosco - Rp', 'MM')\n"
     ]
    }
   ],
   "source": [
    "sql = \"SELECT idvendas, receita_total, nome_produto, canal_venda FROM vendadb.vendas_tb WHERE nome_produto LIKE 'aparador%' LIMIT 5\"\n",
    "cursor.execute(sql)\n",
    "\n",
    "result = cursor.fetchall()\n",
    "for i in result:\n",
    "    print(i)"
   ]
  }
 ],
 "metadata": {
  "kernelspec": {
   "display_name": "Python 3 (ipykernel)",
   "language": "python",
   "name": "python3"
  },
  "language_info": {
   "codemirror_mode": {
    "name": "ipython",
    "version": 3
   },
   "file_extension": ".py",
   "mimetype": "text/x-python",
   "name": "python",
   "nbconvert_exporter": "python",
   "pygments_lexer": "ipython3",
   "version": "3.10.3"
  }
 },
 "nbformat": 4,
 "nbformat_minor": 5
}
